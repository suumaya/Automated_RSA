{
 "cells": [
  {
   "cell_type": "markdown",
   "metadata": {},
   "source": [
    "# Programming RSA using SAGE\n",
    "### BY: Sumaya Altamimi \n",
    "![](images/Picture1.png)"
   ]
  },
  {
   "cell_type": "markdown",
   "metadata": {},
   "source": [
    "RSA is an interesting and powerful cryptographic algorithm, proved to be strong as it is based on mathematical prime numbers characteristics. To program it and see how it is work, I will use Sage, an open- source tool that implements a powerful and flexible computer and mathematics algorithms using various types of numerical calculations. "
   ]
  },
  {
   "cell_type": "markdown",
   "metadata": {},
   "source": [
    "## Table of Contents\n",
    "- [Introduction](#1)\n",
    "- [Simulate RSA Encryption and Decryption](#2)\n",
    "- [Simulate RSA Digital Signatures](#3)\n",
    "- [RSA Encryption and Decryption ](#4)\n",
    "- [RSA Digital Signatures](#5)\t\n",
    "- [Conclusion](#6)\t\n",
    "- [References](#7)"
   ]
  },
  {
   "cell_type": "markdown",
   "metadata": {},
   "source": [
    "<a id = '1'></a>\n",
    "# Introduction\n",
    "\n",
    "In this project, I will implement the well-known RSA algorithm using Sage tool. RSA is an interesting and powerful cryptographic algorithm, proved to be strong as it is based on mathematical prime numbers characteristics. To program it and see how it is work, Sage, which is an open- source tool that implements a powerful and flexible computer and mathematics algorithms using various types of numerical calculations, is very helpful in this case. I will start with Simulating RSA encryption and decryption. Such as randomly select some prime numbers, compute the modulus, etc. Then, I will use Sage to simulate RSA sign and verify Digital Signatures. After simulation, I will Perform actual RSA encryption and decryption. Then I will Implement Sage function to perform RSA sign and verify Digital Signatures. Sage can be easily used to compute large numbers, which make it so efficient and one of the best choices to implement cryptographic algorithms. "
   ]
  },
  {
   "cell_type": "code",
   "execution_count": 1,
   "metadata": {
    "scrolled": true
   },
   "outputs": [],
   "source": [
    "import Crypto\n",
    "import base64\n",
    "import Crypto.Random as rand\n",
    "from Crypto.Hash import SHA as haash\n",
    "from Crypto.PublicKey import RSA as rsa\n",
    "from Crypto.Signature import PKCS1_v1_5 as sin\n",
    "from sage.crypto.util import random_blum_prime, ascii_to_bin, bin_to_ascii"
   ]
  },
  {
   "cell_type": "markdown",
   "metadata": {},
   "source": [
    "<a id = '2'></a>\n",
    "# 1) Simulate RSA Encrypt/Decrypt \n",
    "In This section, I will use built in sage functionality to simulate RSA Encrypt/Decrypt. "
   ]
  },
  {
   "cell_type": "markdown",
   "metadata": {},
   "source": [
    "<h1 style=\"color:blue;\"> Part 1 </h1>\n",
    "\n",
    "Suppose our RSA **public key factors as p = 6569, q = 8089**, and **the public exponent e is 11** <br>\n",
    "Suppose I sent **the Ciphertext c = 28901722** <br>\n",
    "Now, I will Perform the RSA Decryption and recover the plaintext using **power_mod** function<br>\n",
    "The decryption process is as follow:"
   ]
  },
  {
   "cell_type": "code",
   "execution_count": 2,
   "metadata": {
    "scrolled": true
   },
   "outputs": [],
   "source": [
    "p = 6569\n",
    "q = 8089\n",
    "n = p*q\n",
    "phi_n = (p-1)*(q-1)\n",
    "e = 11\n",
    "c = 28901722"
   ]
  },
  {
   "cell_type": "markdown",
   "metadata": {},
   "source": [
    "### Find the private key d \n",
    "<br> d is the multiplicative inverse of e mod phi_N\n",
    "<br> de mod phi_n =1\n"
   ]
  },
  {
   "cell_type": "code",
   "execution_count": 3,
   "metadata": {
    "scrolled": true
   },
   "outputs": [
    {
     "data": {
      "text/plain": [
       "1"
      ]
     },
     "execution_count": 3,
     "metadata": {},
     "output_type": "execute_result"
    }
   ],
   "source": [
    "d = xgcd(e, phi_n)[1] % phi_n\n",
    "mod(d * e, phi_n)"
   ]
  },
  {
   "cell_type": "markdown",
   "metadata": {},
   "source": [
    "### Find the plain text \n",
    "Decrypt with the private key d"
   ]
  },
  {
   "cell_type": "code",
   "execution_count": 4,
   "metadata": {
    "scrolled": true
   },
   "outputs": [
    {
     "data": {
      "text/plain": [
       "3167473"
      ]
     },
     "execution_count": 4,
     "metadata": {},
     "output_type": "execute_result"
    }
   ],
   "source": [
    "m = power_mod(c, d, n); m"
   ]
  },
  {
   "cell_type": "markdown",
   "metadata": {},
   "source": [
    "### Test"
   ]
  },
  {
   "cell_type": "code",
   "execution_count": 5,
   "metadata": {
    "scrolled": true
   },
   "outputs": [
    {
     "data": {
      "text/plain": [
       "28901722"
      ]
     },
     "execution_count": 5,
     "metadata": {},
     "output_type": "execute_result"
    }
   ],
   "source": [
    "power_mod(m, e, n)"
   ]
  },
  {
   "cell_type": "code",
   "execution_count": 6,
   "metadata": {
    "scrolled": true
   },
   "outputs": [
    {
     "data": {
      "text/plain": [
       "True"
      ]
     },
     "execution_count": 6,
     "metadata": {},
     "output_type": "execute_result"
    }
   ],
   "source": [
    "power_mod(m, e, n) == c"
   ]
  },
  {
   "cell_type": "markdown",
   "metadata": {},
   "source": [
    "<h1 style=\"color:blue;\"> Part 2 </h1>\n",
    "\n",
    "Suppose that I want to **encrypt the number 449** and send it to someone \n",
    "<br> The **public key N =37617577**, and **e = 529**"
   ]
  },
  {
   "cell_type": "code",
   "execution_count": 7,
   "metadata": {
    "scrolled": true
   },
   "outputs": [
    {
     "data": {
      "text/plain": [
       "13188084"
      ]
     },
     "execution_count": 7,
     "metadata": {},
     "output_type": "execute_result"
    }
   ],
   "source": [
    "m = 449\n",
    "e = 529\n",
    "n = 37617577\n",
    "power_mod(m, e, n)"
   ]
  },
  {
   "cell_type": "markdown",
   "metadata": {},
   "source": [
    "<h1 style=\"color:blue;\"> Part 3 </h1>\n",
    "\n",
    "Suppose that I forgot our public exponent.<br>\n",
    "but I know that the **prime factors** of our Key's modulus are **1723 and 5381** \n",
    "<br> The **private exponent** is **223**  <br>\n",
    "I want to find the **public exponent**."
   ]
  },
  {
   "cell_type": "code",
   "execution_count": 8,
   "metadata": {
    "scrolled": true
   },
   "outputs": [],
   "source": [
    "p = 1723\n",
    "q = 5381\n",
    "n = p*q\n",
    "phi_n = (p-1)*(q-1)\n",
    "d = 223"
   ]
  },
  {
   "cell_type": "markdown",
   "metadata": {},
   "source": [
    "To find the public key, **de mod phi_n =1**"
   ]
  },
  {
   "cell_type": "code",
   "execution_count": 9,
   "metadata": {
    "scrolled": true
   },
   "outputs": [
    {
     "data": {
      "text/plain": [
       "1"
      ]
     },
     "execution_count": 9,
     "metadata": {},
     "output_type": "execute_result"
    }
   ],
   "source": [
    "e = xgcd(d, phi_n)[1] % phi_n\n",
    "mod(d * e, phi_n)"
   ]
  },
  {
   "cell_type": "code",
   "execution_count": 10,
   "metadata": {
    "scrolled": true
   },
   "outputs": [
    {
     "data": {
      "text/plain": [
       "5982367"
      ]
     },
     "execution_count": 10,
     "metadata": {},
     "output_type": "execute_result"
    }
   ],
   "source": [
    "e"
   ]
  },
  {
   "cell_type": "markdown",
   "metadata": {},
   "source": [
    "### Test"
   ]
  },
  {
   "cell_type": "code",
   "execution_count": 11,
   "metadata": {
    "scrolled": true
   },
   "outputs": [],
   "source": [
    "m = 10\n",
    "c = power_mod(m, e, n)"
   ]
  },
  {
   "cell_type": "code",
   "execution_count": 12,
   "metadata": {
    "scrolled": true
   },
   "outputs": [
    {
     "data": {
      "text/plain": [
       "10"
      ]
     },
     "execution_count": 12,
     "metadata": {},
     "output_type": "execute_result"
    }
   ],
   "source": [
    "power_mod(c, d, n)"
   ]
  },
  {
   "cell_type": "code",
   "execution_count": 13,
   "metadata": {
    "scrolled": true
   },
   "outputs": [
    {
     "data": {
      "text/plain": [
       "True"
      ]
     },
     "execution_count": 13,
     "metadata": {},
     "output_type": "execute_result"
    }
   ],
   "source": [
    "power_mod(c, d, n) == m"
   ]
  },
  {
   "cell_type": "markdown",
   "metadata": {},
   "source": [
    "<h1 style=\"color:blue;\"> Part 4 </h1>\n"
   ]
  },
  {
   "cell_type": "markdown",
   "metadata": {},
   "source": [
    "Now, I will use sage to generate an rsa public / private key pair \n",
    "<br> Then, I will perform encryption and decryption with these pairs.\n",
    "### Generate an RSA public / private key pair "
   ]
  },
  {
   "cell_type": "code",
   "execution_count": 14,
   "metadata": {
    "scrolled": true
   },
   "outputs": [
    {
     "data": {
      "text/plain": [
       "1"
      ]
     },
     "execution_count": 14,
     "metadata": {},
     "output_type": "execute_result"
    }
   ],
   "source": [
    "p = random_prime(1000000000)\n",
    "q = random_prime(1000000000)\n",
    "n = p*q\n",
    "phi_n = (p-1)*(q-1)\n",
    "d = 233\n",
    "e = xgcd(d, phi_n)[1] % phi_n\n",
    "mod(d * e, phi_n)"
   ]
  },
  {
   "cell_type": "markdown",
   "metadata": {},
   "source": [
    "### Perform encryption "
   ]
  },
  {
   "cell_type": "code",
   "execution_count": 15,
   "metadata": {
    "scrolled": true
   },
   "outputs": [
    {
     "data": {
      "text/plain": [
       "459979113819365955"
      ]
     },
     "execution_count": 15,
     "metadata": {},
     "output_type": "execute_result"
    }
   ],
   "source": [
    "m = 10\n",
    "c = power_mod(m, e, n); c"
   ]
  },
  {
   "cell_type": "markdown",
   "metadata": {},
   "source": [
    "### Perform  decryption"
   ]
  },
  {
   "cell_type": "code",
   "execution_count": 16,
   "metadata": {
    "scrolled": true
   },
   "outputs": [
    {
     "data": {
      "text/plain": [
       "10"
      ]
     },
     "execution_count": 16,
     "metadata": {},
     "output_type": "execute_result"
    }
   ],
   "source": [
    "power_mod(c, d, n)"
   ]
  },
  {
   "cell_type": "code",
   "execution_count": 17,
   "metadata": {
    "scrolled": true
   },
   "outputs": [
    {
     "data": {
      "text/plain": [
       "True"
      ]
     },
     "execution_count": 17,
     "metadata": {},
     "output_type": "execute_result"
    }
   ],
   "source": [
    "power_mod(c, d, n) == m"
   ]
  },
  {
   "cell_type": "markdown",
   "metadata": {},
   "source": [
    "<a id = '3'></a>\n",
    "\n",
    "# 2) Digital signatures \n",
    "I will determine if given RSA signatures are good or bad:"
   ]
  },
  {
   "cell_type": "markdown",
   "metadata": {},
   "source": [
    "### Fisrst Case\n",
    "**N = 13962799** , **e = 3**,and the value to sign, **m = 821** <br>\n",
    "and the **signature = 8674413**<br>\n",
    "***This is valid signature*** as proved below:"
   ]
  },
  {
   "cell_type": "code",
   "execution_count": 18,
   "metadata": {
    "scrolled": true
   },
   "outputs": [],
   "source": [
    "n = 13962799\n",
    "e = 3\n",
    "m = '821'\n",
    "s = '8674413'"
   ]
  },
  {
   "cell_type": "markdown",
   "metadata": {},
   "source": [
    "To verify the signature I will:\n",
    "- Compute the hash of the message, then \n",
    "- Decrypt the signature with the sender public key"
   ]
  },
  {
   "cell_type": "markdown",
   "metadata": {},
   "source": [
    "### Compute the hash of the message"
   ]
  },
  {
   "cell_type": "code",
   "execution_count": 19,
   "metadata": {
    "scrolled": true
   },
   "outputs": [
    {
     "data": {
      "text/plain": [
       "'fbbf192d8343f1afa97f7a91d44cac3057f6a46f'"
      ]
     },
     "execution_count": 19,
     "metadata": {},
     "output_type": "execute_result"
    }
   ],
   "source": [
    "message_hash = haash.hashlib.sha1(m.encode()).hexdigest();message_hash"
   ]
  },
  {
   "cell_type": "markdown",
   "metadata": {},
   "source": [
    "### Decrypt the signature"
   ]
  },
  {
   "cell_type": "code",
   "execution_count": 20,
   "metadata": {
    "scrolled": true
   },
   "outputs": [
    {
     "data": {
      "text/plain": [
       "'821'"
      ]
     },
     "execution_count": 20,
     "metadata": {},
     "output_type": "execute_result"
    }
   ],
   "source": [
    "signature_message = str(power_mod(int(s), e, n));signature_message"
   ]
  },
  {
   "cell_type": "code",
   "execution_count": 21,
   "metadata": {
    "scrolled": true
   },
   "outputs": [
    {
     "data": {
      "text/plain": [
       "'fbbf192d8343f1afa97f7a91d44cac3057f6a46f'"
      ]
     },
     "execution_count": 21,
     "metadata": {},
     "output_type": "execute_result"
    }
   ],
   "source": [
    "signature_message_hash = haash.hashlib.sha1(signature_message.encode()).hexdigest()\n",
    "signature_message_hash"
   ]
  },
  {
   "cell_type": "code",
   "execution_count": 22,
   "metadata": {
    "scrolled": true
   },
   "outputs": [
    {
     "data": {
      "text/plain": [
       "True"
      ]
     },
     "execution_count": 22,
     "metadata": {},
     "output_type": "execute_result"
    }
   ],
   "source": [
    "message_hash == signature_message_hash"
   ]
  },
  {
   "cell_type": "markdown",
   "metadata": {},
   "source": [
    "### Second Case \n",
    "**N = 34300129** , **e = 61**, **m = 2478**<br>\n",
    "and the signature = **27535246**<br>\n",
    "***This is invalid signature*** as proved below:"
   ]
  },
  {
   "cell_type": "code",
   "execution_count": 23,
   "metadata": {
    "scrolled": true
   },
   "outputs": [],
   "source": [
    "n = 34300129\n",
    "e = 61\n",
    "m = '2478'\n",
    "s = '27535246'"
   ]
  },
  {
   "cell_type": "markdown",
   "metadata": {},
   "source": [
    "### Compute the hash of the message"
   ]
  },
  {
   "cell_type": "code",
   "execution_count": 24,
   "metadata": {
    "scrolled": true
   },
   "outputs": [
    {
     "data": {
      "text/plain": [
       "'fd036c77bc43059b0dfa9067039290b8f17440e5'"
      ]
     },
     "execution_count": 24,
     "metadata": {},
     "output_type": "execute_result"
    }
   ],
   "source": [
    "message_hash = haash.hashlib.sha1(m.encode()).hexdigest();message_hash"
   ]
  },
  {
   "cell_type": "markdown",
   "metadata": {},
   "source": [
    "### Decrypt the signature"
   ]
  },
  {
   "cell_type": "code",
   "execution_count": 25,
   "metadata": {
    "scrolled": true
   },
   "outputs": [
    {
     "data": {
      "text/plain": [
       "'6227130'"
      ]
     },
     "execution_count": 25,
     "metadata": {},
     "output_type": "execute_result"
    }
   ],
   "source": [
    "signature_message = str(power_mod(int(s), e, n));signature_message"
   ]
  },
  {
   "cell_type": "code",
   "execution_count": 26,
   "metadata": {
    "scrolled": true
   },
   "outputs": [
    {
     "data": {
      "text/plain": [
       "'7ce4f2f3763ef2b2aeeacbd9072fa2b7ad4b697c'"
      ]
     },
     "execution_count": 26,
     "metadata": {},
     "output_type": "execute_result"
    }
   ],
   "source": [
    "signature_message_hash = haash.hashlib.sha1(signature_message.encode()).hexdigest()\n",
    "signature_message_hash"
   ]
  },
  {
   "cell_type": "code",
   "execution_count": 27,
   "metadata": {
    "scrolled": true
   },
   "outputs": [
    {
     "data": {
      "text/plain": [
       "False"
      ]
     },
     "execution_count": 27,
     "metadata": {},
     "output_type": "execute_result"
    }
   ],
   "source": [
    "message_hash == signature_message_hash"
   ]
  },
  {
   "cell_type": "markdown",
   "metadata": {},
   "source": [
    "### Third Case \n",
    "**N = 5898461** , **e = 23**, **m = 419**<br>\n",
    "and the signature = **2607727**<br>\n",
    "\n",
    "***This is invalid signature*** as proved below:"
   ]
  },
  {
   "cell_type": "code",
   "execution_count": 28,
   "metadata": {
    "scrolled": true
   },
   "outputs": [],
   "source": [
    "n = 5898461\n",
    "e = 23\n",
    "m = '419'\n",
    "s = '2607727'"
   ]
  },
  {
   "cell_type": "markdown",
   "metadata": {},
   "source": [
    "### Compute the hash of the message"
   ]
  },
  {
   "cell_type": "code",
   "execution_count": 29,
   "metadata": {
    "scrolled": true
   },
   "outputs": [
    {
     "data": {
      "text/plain": [
       "'1f0037c5e92481b35c84bc22d7e8f69c34365430'"
      ]
     },
     "execution_count": 29,
     "metadata": {},
     "output_type": "execute_result"
    }
   ],
   "source": [
    "message_hash = haash.hashlib.sha1(m.encode()).hexdigest();message_hash"
   ]
  },
  {
   "cell_type": "markdown",
   "metadata": {},
   "source": [
    "### Decrypt the signature"
   ]
  },
  {
   "cell_type": "code",
   "execution_count": 30,
   "metadata": {
    "scrolled": true
   },
   "outputs": [
    {
     "data": {
      "text/plain": [
       "'3959558'"
      ]
     },
     "execution_count": 30,
     "metadata": {},
     "output_type": "execute_result"
    }
   ],
   "source": [
    "signature_message = str(power_mod(int(s), e, n));signature_message"
   ]
  },
  {
   "cell_type": "code",
   "execution_count": 31,
   "metadata": {
    "scrolled": true
   },
   "outputs": [
    {
     "data": {
      "text/plain": [
       "'59c0ce7094843c4e95f94bc015aeb71d7e76cc60'"
      ]
     },
     "execution_count": 31,
     "metadata": {},
     "output_type": "execute_result"
    }
   ],
   "source": [
    "signature_message_hash = haash.hashlib.sha1(signature_message.encode()).hexdigest()\n",
    "signature_message_hash"
   ]
  },
  {
   "cell_type": "code",
   "execution_count": 32,
   "metadata": {
    "scrolled": true
   },
   "outputs": [
    {
     "data": {
      "text/plain": [
       "False"
      ]
     },
     "execution_count": 32,
     "metadata": {},
     "output_type": "execute_result"
    }
   ],
   "source": [
    "message_hash == signature_message_hash"
   ]
  },
  {
   "cell_type": "markdown",
   "metadata": {},
   "source": [
    "### Fourth Case \n",
    "\n",
    "Suppose that I have an RSA modulus with prime factors **p = 3181 and q = 2677**<br>\n",
    "and the public exponent **e = 163**.  <br>\n",
    "I will calculate the signature **m = 521** and then verify it.\n",
    "\n",
    "***This is valid signature*** as proved below:"
   ]
  },
  {
   "cell_type": "code",
   "execution_count": 55,
   "metadata": {
    "scrolled": true
   },
   "outputs": [],
   "source": [
    "p = 3181\n",
    "q = 2677\n",
    "e = 163\n",
    "m = 521"
   ]
  },
  {
   "cell_type": "code",
   "execution_count": 56,
   "metadata": {
    "scrolled": true
   },
   "outputs": [
    {
     "data": {
      "text/plain": [
       "1"
      ]
     },
     "execution_count": 56,
     "metadata": {},
     "output_type": "execute_result"
    }
   ],
   "source": [
    "n = p*q\n",
    "phi_n = (p-1)*(q-1)\n",
    "d = xgcd(e, phi_n)[1] % phi_n\n",
    "mod(d * e, phi_n)"
   ]
  },
  {
   "cell_type": "markdown",
   "metadata": {},
   "source": [
    "### Calculate(fins a message hash)  the signature"
   ]
  },
  {
   "cell_type": "code",
   "execution_count": 57,
   "metadata": {
    "scrolled": true
   },
   "outputs": [
    {
     "data": {
      "text/plain": [
       "85205"
      ]
     },
     "execution_count": 57,
     "metadata": {},
     "output_type": "execute_result"
    }
   ],
   "source": [
    "signature = power_mod(m, d, n); signature "
   ]
  },
  {
   "cell_type": "markdown",
   "metadata": {},
   "source": [
    "### Verify(use public key) the signature"
   ]
  },
  {
   "cell_type": "code",
   "execution_count": 58,
   "metadata": {
    "scrolled": true
   },
   "outputs": [
    {
     "data": {
      "text/plain": [
       "521"
      ]
     },
     "execution_count": 58,
     "metadata": {},
     "output_type": "execute_result"
    }
   ],
   "source": [
    "verified_signature = power_mod(signature, e, n); verified_signature"
   ]
  },
  {
   "cell_type": "code",
   "execution_count": 60,
   "metadata": {
    "scrolled": true
   },
   "outputs": [
    {
     "data": {
      "text/plain": [
       "True"
      ]
     },
     "execution_count": 60,
     "metadata": {},
     "output_type": "execute_result"
    }
   ],
   "source": [
    "m == verified_signature"
   ]
  },
  {
   "cell_type": "markdown",
   "metadata": {},
   "source": [
    "<a id = '4'></a>\n",
    "# 3) RSA Encryption and Decryption \n",
    "in this section, I will implement RSA encrypt and decrypt functions<br>\n",
    "### It is usefull need to write class RSA and call it later that has the following :\n",
    "- Key Generation, if not provided\n",
    "- Encryption Function\n",
    "- Decryption Function"
   ]
  },
  {
   "cell_type": "code",
   "execution_count": 38,
   "metadata": {
    "scrolled": true
   },
   "outputs": [],
   "source": [
    "class RSA_class(object):\n",
    "    \n",
    "    #Key generation\n",
    "    def __init__(self,p=random_blum_prime(2 ** 128, 2 ** 256),q=random_blum_prime(2 ** 128, 2 ** 256)):\n",
    "        self.p = p\n",
    "        self.q = q\n",
    "        self.n = p * q\n",
    "        self.phi = (p-1)*(q-1)\n",
    "        self.e = random_blum_prime(3, self.phi)\n",
    "        self.d = inverse_mod(self.e, self.phi)\n",
    "        self.block_len = len(self.n.bits()) - 1\n",
    "        \n",
    "    def get_public_key(self):\n",
    "            return self.e, self.n\n",
    "\n",
    "    def get_private_key(self):\n",
    "            return self.d, self.n\n",
    "\n",
    "    def get_block_length(self):\n",
    "            return self.block_len\n",
    "        \n",
    "    \n",
    "    #RSA Encryption Function\n",
    "    def encrypt(self, message):\n",
    "            raw = ascii_to_bin(message)\n",
    "            blocks = (raw[i * self.block_len: (i + 1) * self.block_len] for i in range(0, ceil(len(raw) / self.block_len)))\n",
    "            cipher = [power_mod(int(str(block), 2), self.e, self.n) for block in blocks]\n",
    "            return cipher\n",
    "        \n",
    "        \n",
    "    def _get_bin_block(self, block, width):\n",
    "            blen = self.block_len\n",
    "            block = bin(block)[2:]\n",
    "            block = \"0\" * (width - len(block)) + block\n",
    "            return block\n",
    "        \n",
    "    \n",
    "    #RSA Decryption Function\n",
    "    def decrypt(self, cipher, msg_len):\n",
    "            blocks = [power_mod(int(str(c)), self.d, self.n) for c in cipher]\n",
    "            bin_string = \"\"\n",
    "            for block in blocks[:-1]:\n",
    "                bin_string += self._get_bin_block(block, self.block_len)\n",
    "            bin_string += self._get_bin_block(blocks[-1], msg_len * 8 - len(bin_string))\n",
    "            return bin_to_ascii(bin_string[0 : msg_len * 8])"
   ]
  },
  {
   "cell_type": "markdown",
   "metadata": {},
   "source": [
    "### Test Encryption & Decryption\n",
    "Are RSA Encryption and Decryption Functions works as expected?"
   ]
  },
  {
   "cell_type": "code",
   "execution_count": 61,
   "metadata": {
    "scrolled": false
   },
   "outputs": [
    {
     "name": "stdout",
     "output_type": "stream",
     "text": [
      "The cipher-text:  [190729893842661999877292958554285020487286887296046173076257673866211692054913469831772503820555273003917802383705641199928661173097823876952040396368784] \n",
      "The plain-text: I love Cryptography\n"
     ]
    }
   ],
   "source": [
    "rsa_objcet = RSA_class()\n",
    "msg = 'I love Cryptography'\n",
    "cipher = rsa_objcet.encrypt(msg)\n",
    "plain = rsa_objcet.decrypt(cipher, len(msg))\n",
    "print('The cipher-text: ',cipher,'\\nThe plain-text:',plain)"
   ]
  },
  {
   "cell_type": "code",
   "execution_count": 62,
   "metadata": {
    "scrolled": true
   },
   "outputs": [
    {
     "name": "stdout",
     "output_type": "stream",
     "text": [
      "The cipher-text:  [278671774934856086876873732452077256767214031556997382903299744607966954007139533088012885601906433125869933490210687427126352454832711998369171151532296] \n",
      "The plain-text: The Second Test is also Successful!\n"
     ]
    }
   ],
   "source": [
    "rsa_objcet = RSA_class()\n",
    "msg = 'The Second Test is also Successful!'\n",
    "cipher = rsa_objcet.encrypt(msg)\n",
    "plain = rsa_objcet.decrypt(cipher, len(msg))\n",
    "print('The cipher-text: ',cipher,'\\nThe plain-text:',plain)"
   ]
  },
  {
   "cell_type": "markdown",
   "metadata": {},
   "source": [
    "<a id = '5'></a>\n",
    "# 4) RSA Digital Signature \n",
    "in this section, I will implement RSA Digital Signature sign and verify functions<br>\n",
    "### It is also usefull  to write class RSA_Signature and call it later that has the following :\n",
    "- Key Generation, if not provided\n",
    "- Sign Function\n",
    "- Verify Function"
   ]
  },
  {
   "cell_type": "code",
   "execution_count": 41,
   "metadata": {
    "scrolled": true
   },
   "outputs": [],
   "source": [
    "class RSA_Signature(object):\n",
    "    \n",
    "    #Key generation\n",
    "    def __init__(self,p=random_blum_prime(2 ** 128, 2 ** 256),q=random_blum_prime(2 ** 128, 2 ** 256)):\n",
    "        self.p = p\n",
    "        self.q = q\n",
    "        self.n = p * q\n",
    "        self.phi = (p-1)*(q-1)\n",
    "        self.e = random_blum_prime(3, self.phi)\n",
    "        self.d = inverse_mod(self.e, self.phi)\n",
    "        self.block_len = len(self.n.bits()) - 1\n",
    "        \n",
    "    def get_public_key(self):\n",
    "            return self.e, self.n\n",
    "\n",
    "    def get_private_key(self):\n",
    "            return self.d, self.n\n",
    "\n",
    "    def get_block_length(self):\n",
    "            return self.block_len\n",
    "        \n",
    "    \n",
    "    #RSA Sign Function\n",
    "    def sign(self, message):\n",
    "            message_hash = haash.hashlib.sha1(message.encode()).hexdigest()\n",
    "            signature = power_mod(int(str(message)), self.d, self.n)\n",
    "            return signature\n",
    "\n",
    "        \n",
    "    \n",
    "    #RSA Verify Function\n",
    "    def verify(self, signature,message, msg_len):\n",
    "        message_hash = haash.hashlib.sha1(message.encode()).hexdigest()\n",
    "        signature_message = str(power_mod(int(str(signature)), self.e, self.n))\n",
    "        signature_message_hash = haash.hashlib.sha1(signature_message.encode()).hexdigest()\n",
    "        return message_hash == signature_message_hash"
   ]
  },
  {
   "cell_type": "markdown",
   "metadata": {},
   "source": [
    "### Test"
   ]
  },
  {
   "cell_type": "code",
   "execution_count": 42,
   "metadata": {
    "scrolled": true
   },
   "outputs": [],
   "source": [
    "ds_object1 = RSA_Signature()\n",
    "ds_object2 = RSA_Signature()"
   ]
  },
  {
   "cell_type": "code",
   "execution_count": 43,
   "metadata": {
    "scrolled": true
   },
   "outputs": [],
   "source": [
    "msg = '123'\n",
    "signature = ds_object1.sign(msg)"
   ]
  },
  {
   "cell_type": "code",
   "execution_count": 44,
   "metadata": {
    "scrolled": true
   },
   "outputs": [],
   "source": [
    "verify1_should_be_true = ds_object1.verify(signature,msg,len(str(msg)))\n",
    "verify2_should_be_false = ds_object2.verify(signature,msg,len(str(msg)))"
   ]
  },
  {
   "cell_type": "code",
   "execution_count": 45,
   "metadata": {
    "scrolled": true
   },
   "outputs": [
    {
     "data": {
      "text/plain": [
       "True"
      ]
     },
     "execution_count": 45,
     "metadata": {},
     "output_type": "execute_result"
    }
   ],
   "source": [
    "verify1_should_be_true"
   ]
  },
  {
   "cell_type": "code",
   "execution_count": 46,
   "metadata": {
    "scrolled": true
   },
   "outputs": [
    {
     "data": {
      "text/plain": [
       "False"
      ]
     },
     "execution_count": 46,
     "metadata": {},
     "output_type": "execute_result"
    }
   ],
   "source": [
    "verify2_should_be_false"
   ]
  },
  {
   "cell_type": "code",
   "execution_count": 47,
   "metadata": {
    "scrolled": true
   },
   "outputs": [
    {
     "data": {
      "text/plain": [
       "1765394214468953211191212289107829387920657955001718070352499848864029046102341263149640211766503034710981701369223163993069188822131411013921891736533889"
      ]
     },
     "execution_count": 47,
     "metadata": {},
     "output_type": "execute_result"
    }
   ],
   "source": [
    "signature"
   ]
  },
  {
   "cell_type": "markdown",
   "metadata": {},
   "source": [
    "<a id = '6'></a>\n",
    "# 5) Conclusion\n",
    "\n",
    "In this project, I have implemented the well-known RSA algorithm using Sage tool which is based on Python3 and an open- source tool that implements a powerful and flexible computer and mathematics algorithms using various types of numerical calculations,\n",
    "\n",
    "I started with Simulating RSA encryption and decryption. Then I used Sage to simulate RSA sign and verify Digital Signatures. I Performed actual RSA encryption and decryption in a calss. Finally I implemented Sage function to perform RSA sign and verify Digital Signatures. "
   ]
  },
  {
   "cell_type": "markdown",
   "metadata": {},
   "source": [
    "<a id = '7'></a>\n",
    "# References \n",
    "[1] [sagemath organization](http://www.sagemath.org) <br>\n",
    "[2] [sagemath organization tutorials](https://doc.sagemath.org/html/en/thematic_tutorials/numtheory_rsa.html)<br>\n",
    "[3] [github examples](https://gist.github.com/idkravitz/781738/c26828d452b4a2f63bcf7af255da5ddaff82e728)"
   ]
  }
 ],
 "metadata": {
  "kernelspec": {
   "display_name": "SageMath 9.2",
   "language": "sage",
   "name": "sagemath"
  },
  "language_info": {
   "codemirror_mode": {
    "name": "ipython",
    "version": 3
   },
   "file_extension": ".py",
   "mimetype": "text/x-python",
   "name": "python",
   "nbconvert_exporter": "python",
   "pygments_lexer": "ipython3",
   "version": "3.8.5"
  }
 },
 "nbformat": 4,
 "nbformat_minor": 4
}
